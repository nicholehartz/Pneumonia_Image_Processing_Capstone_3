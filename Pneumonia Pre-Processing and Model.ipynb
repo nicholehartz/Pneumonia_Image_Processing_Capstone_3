{
 "cells": [
  {
   "cell_type": "code",
   "execution_count": 3,
   "metadata": {},
   "outputs": [],
   "source": [
    "import pandas as pd\n",
    "import matplotlib.pyplot as plt\n",
    "import numpy as np\n",
    "import scipy.ndimage as ndi\n",
    "import tensorflow as tf\n",
    "from tensorflow import keras\n",
    "from tensorflow.keras import layers"
   ]
  },
  {
   "cell_type": "code",
   "execution_count": 4,
   "metadata": {},
   "outputs": [],
   "source": [
    "train = np.load('Clean_Data/training_data.npy', allow_pickle=True)\n",
    "test = np.load('Clean_Data/testing_data.npy', allow_pickle=True)\n",
    "val = np.load('Clean_Data/validation_data.npy', allow_pickle=True)"
   ]
  },
  {
   "cell_type": "code",
   "execution_count": null,
   "metadata": {},
   "outputs": [],
   "source": [
    "df_train = pd.read_pickle('Clean_Data/training_data.csv')\n",
    "\n",
    "df_test = pd.read_pickle('Clean_Data/testing_data.csv')\n",
    "\n",
    "df_val = pd.read_pickle('Clean_Data/validation_data.csv')"
   ]
  },
  {
   "cell_type": "code",
   "execution_count": null,
   "metadata": {},
   "outputs": [],
   "source": [
    "print(df_train.head(3))\n",
    "print(df_test.head(3))\n",
    "print(df_val.head(3))"
   ]
  },
  {
   "cell_type": "code",
   "execution_count": null,
   "metadata": {},
   "outputs": [],
   "source": [
    "print(df_train.shape)\n",
    "print(df_test.shape)\n",
    "print(df_val.shape)"
   ]
  },
  {
   "cell_type": "code",
   "execution_count": null,
   "metadata": {},
   "outputs": [],
   "source": [
    "_ = plt.imshow(df_train['Image'][0], cmap='gray')\n",
    "_ = plt.axis('off')\n",
    "_ = plt.title('Image 1')"
   ]
  },
  {
   "cell_type": "code",
   "execution_count": null,
   "metadata": {},
   "outputs": [],
   "source": [
    "df_train['Image'][0].shape"
   ]
  },
  {
   "cell_type": "markdown",
   "metadata": {},
   "source": [
    "## Split Data"
   ]
  },
  {
   "cell_type": "code",
   "execution_count": null,
   "metadata": {},
   "outputs": [],
   "source": [
    "X_train = df_train['Image']\n",
    "y_train = df_train['Label']\n",
    "\n",
    "X_test = df_test['Image']\n",
    "y_test = df_test['Label']\n",
    "\n",
    "X_val = df_val['Image']\n",
    "y_val = df_val['Label']"
   ]
  },
  {
   "cell_type": "code",
   "execution_count": null,
   "metadata": {},
   "outputs": [],
   "source": [
    "print('Training data shape : ', X_train.shape, y_train.shape)"
   ]
  },
  {
   "cell_type": "markdown",
   "metadata": {},
   "source": [
    "## Preprocess Data"
   ]
  },
  {
   "cell_type": "code",
   "execution_count": null,
   "metadata": {},
   "outputs": [],
   "source": [
    "data_augmentation = keras.Sequential(\n",
    "    [layers.experimental.preprocessing.RandomFlip(\"horizontal\"),\n",
    "     layers.experimental.preprocessing.RandomRotation(0.1),\n",
    "     layers.experimental.preprocessing.RandomContrast(0.1),\n",
    "     layers.experimental.preprocessing.RandomCrop(0.1, 0.1),\n",
    "     layers.experimental.preprocessing.Rescaling(0.1),\n",
    "     layers.experimental.preprocessing.RandomHeight(0.1), \n",
    "     layers.experimental.preprocessing.RandomWidth(0.1)\n",
    "    ])"
   ]
  },
  {
   "cell_type": "code",
   "execution_count": null,
   "metadata": {},
   "outputs": [],
   "source": [
    "augmented_images = data_augmentation(df_train['Image'][1])\n",
    "plt.imshow(augmented_images)\n",
    "\n"
   ]
  },
  {
   "cell_type": "code",
   "execution_count": null,
   "metadata": {},
   "outputs": [],
   "source": [
    "plt.figure(figsize=(10, 10))\n",
    "for im in range(3):\n",
    "    augmented_images = data_augmentation(df_train['Image'][im])\n",
    "    ax = plt.subplot(3, 3, i + 1)\n",
    "    plt.imshow(augmented_images[0])\n",
    "    plt.axis(\"off\")\n",
    "    \n"
   ]
  },
  {
   "cell_type": "code",
   "execution_count": null,
   "metadata": {},
   "outputs": [],
   "source": [
    "data_augmentation = keras.Sequential(\n",
    "    [layers.experimental.preprocessing.RandomFlip(\"horizontal\"),\n",
    "     layers.experimental.preprocessing.RandomRotation(0.1)\n",
    "    ])"
   ]
  },
  {
   "cell_type": "code",
   "execution_count": null,
   "metadata": {},
   "outputs": [],
   "source": [
    "plt.figure(figsize=(10, 10))\n",
    "for images, _ in df_train.take(1):\n",
    "    for i in range(9):\n",
    "        augmented_images = data_augmentation(images)\n",
    "        ax = plt.subplot(3, 3, i + 1)\n",
    "        plt.imshow(augmented_images[0].numpy().astype(\"uint8\"))\n",
    "        plt.axis(\"off\")"
   ]
  },
  {
   "cell_type": "code",
   "execution_count": null,
   "metadata": {},
   "outputs": [],
   "source": [
    "np.load('Clean_Data/validation_data.npy')"
   ]
  },
  {
   "cell_type": "code",
   "execution_count": null,
   "metadata": {},
   "outputs": [],
   "source": [
    "plt.figure(figsize=(10, 10))\n",
    "for images in X_train.take(1):\n",
    "    for i in range(9):\n",
    "        ax = plt.subplot(3, 3, i + 1)\n",
    "        plt.imshow(images[i])\n",
    "        plt.axis(\"off\")"
   ]
  },
  {
   "cell_type": "code",
   "execution_count": null,
   "metadata": {},
   "outputs": [],
   "source": []
  },
  {
   "cell_type": "markdown",
   "metadata": {},
   "source": [
    "### Equalize Images"
   ]
  },
  {
   "cell_type": "code",
   "execution_count": null,
   "metadata": {},
   "outputs": [],
   "source": [
    "# Define function to equalize list of images\n",
    "def im_equalize(df_col, df_new_col):\n",
    "    im_equalized = []\n",
    "    for im in range(len(df_col)):\n",
    "        hist = ndi.histogram(df_col[im], min=0, max=255, bins=256)\n",
    "        cdf = hist.cumsum() / hist.sum()\n",
    "        im_equalized.append(cdf[df_col[im]] * 255)\n",
    "    df_new_col = im_equalized"
   ]
  },
  {
   "cell_type": "code",
   "execution_count": null,
   "metadata": {},
   "outputs": [],
   "source": [
    "im_equalize(df_train['Image'], equal)"
   ]
  },
  {
   "cell_type": "code",
   "execution_count": null,
   "metadata": {},
   "outputs": [],
   "source": [
    "# Verify im_equalize function works\n",
    "im_equalize(df_train['Image'])\n",
    "\n",
    "_ = plt.imshow(df_train['Image'][42], cmap='gray')\n",
    "_ = plt.title('Original')\n",
    "_ = plt.axis('off')\n",
    "plt.show()\n",
    "\n",
    "_ = plt.imshow(df_train['Image_Equalized'][42], cmap='gray')\n",
    "_ = plt.title('Equalized')\n",
    "_ = plt.axis('off')\n",
    "plt.show()"
   ]
  },
  {
   "cell_type": "markdown",
   "metadata": {},
   "source": [
    "## Model"
   ]
  },
  {
   "cell_type": "code",
   "execution_count": null,
   "metadata": {},
   "outputs": [],
   "source": [
    "model = Sequential()\n"
   ]
  }
 ],
 "metadata": {
  "kernelspec": {
   "display_name": "Python 3",
   "language": "python",
   "name": "python3"
  },
  "language_info": {
   "codemirror_mode": {
    "name": "ipython",
    "version": 3
   },
   "file_extension": ".py",
   "mimetype": "text/x-python",
   "name": "python",
   "nbconvert_exporter": "python",
   "pygments_lexer": "ipython3",
   "version": "3.6.10"
  }
 },
 "nbformat": 4,
 "nbformat_minor": 4
}
